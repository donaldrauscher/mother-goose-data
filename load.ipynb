{
 "cells": [
  {
   "cell_type": "code",
   "execution_count": 1,
   "id": "d13a5fb5-c19e-4381-bdc9-b1604dd135f6",
   "metadata": {},
   "outputs": [],
   "source": [
    "import yaml\n",
    "\n",
    "with open('schema.yaml', 'r') as f:\n",
    "    col = yaml.safe_load(f)"
   ]
  },
  {
   "cell_type": "code",
   "execution_count": 2,
   "id": "8364618f-99b7-46cd-b065-3dba293b2a39",
   "metadata": {},
   "outputs": [],
   "source": [
    "import pandas as pd\n",
    "\n",
    "df_iter = pd.read_fwf('data/raw/Nat2019PublicUS.c20200506.r20200915.txt', \n",
    "                      widths=[w for _, w in col],\n",
    "                      header=None,\n",
    "                      names=[c for c, _ in col],\n",
    "                      dtype={c: object for c, _ in col},\n",
    "                      chunksize=100000)\n",
    "\n",
    "for i, df in enumerate(df_iter):\n",
    "    df.drop(columns=[c for c, _ in col if c.startswith('FILLER')], inplace=True)\n",
    "    df.to_csv(f'data/processed/births2019_{str(i).zfill(5)}.txt', sep='|', index=False)"
   ]
  },
  {
   "cell_type": "code",
   "execution_count": 6,
   "id": "104aa697-c9cd-4497-ba7f-0e6d343bb69d",
   "metadata": {},
   "outputs": [
    {
     "name": "stdout",
     "output_type": "stream",
     "text": [
      "Copying file://data/processed/births2019_00000.txt [Content-Type=text/plain]...\n",
      "Copying file://data/processed/births2019_00001.txt [Content-Type=text/plain]... \n",
      "Copying file://data/processed/births2019_00002.txt [Content-Type=text/plain]...\n",
      "Copying file://data/processed/births2019_00003.txt [Content-Type=text/plain]... \n",
      "Copying file://data/processed/births2019_00005.txt [Content-Type=text/plain]... \n",
      "Copying file://data/processed/births2019_00006.txt [Content-Type=text/plain]... \n",
      "Copying file://data/processed/births2019_00004.txt [Content-Type=text/plain]... \n",
      "Copying file://data/processed/births2019_00007.txt [Content-Type=text/plain]... \n",
      "Copying file://data/processed/births2019_00008.txt [Content-Type=text/plain]... \n",
      "Copying file://data/processed/births2019_00009.txt [Content-Type=text/plain]... \n",
      "Resuming upload for file://data/processed/births2019_00009.txt                  \n",
      "Copying file://data/processed/births2019_00010.txt [Content-Type=text/plain]...\n",
      "Copying file://data/processed/births2019_00011.txt [Content-Type=text/plain]... \n",
      "Copying file://data/processed/births2019_00012.txt [Content-Type=text/plain]... \n",
      "Copying file://data/processed/births2019_00020.txt [Content-Type=text/plain]... \n",
      "Copying file://data/processed/births2019_00015.txt [Content-Type=text/plain]... \n",
      "Copying file://data/processed/births2019_00016.txt [Content-Type=text/plain]... \n",
      "Copying file://data/processed/births2019_00014.txt [Content-Type=text/plain]... \n",
      "Copying file://data/processed/births2019_00017.txt [Content-Type=text/plain]... \n",
      "Copying file://data/processed/births2019_00025.txt [Content-Type=text/plain]... \n",
      "Copying file://data/processed/births2019_00021.txt [Content-Type=text/plain]...\n",
      "Copying file://data/processed/births2019_00034.txt [Content-Type=text/plain]...\n",
      "Copying file://data/processed/births2019_00013.txt [Content-Type=text/plain]...\n",
      "Copying file://data/processed/births2019_00033.txt [Content-Type=text/plain]... \n",
      "Copying file://data/processed/births2019_00036.txt [Content-Type=text/plain]...\n",
      "Copying file://data/processed/births2019_00018.txt [Content-Type=text/plain]... \n",
      "Copying file://data/processed/births2019_00023.txt [Content-Type=text/plain]...\n",
      "Copying file://data/processed/births2019_00022.txt [Content-Type=text/plain]... \n",
      "Copying file://data/processed/births2019_00029.txt [Content-Type=text/plain]...\n",
      "Copying file://data/processed/births2019_00019.txt [Content-Type=text/plain]... \n",
      "Copying file://data/processed/births2019_00028.txt [Content-Type=text/plain]... \n",
      "Copying file://data/processed/births2019_00032.txt [Content-Type=text/plain]...\n",
      "Copying file://data/processed/births2019_00031.txt [Content-Type=text/plain]... \n",
      "Copying file://data/processed/births2019_00027.txt [Content-Type=text/plain]... \n",
      "Copying file://data/processed/births2019_00035.txt [Content-Type=text/plain]... \n",
      "Copying file://data/processed/births2019_00024.txt [Content-Type=text/plain]...\n",
      "Copying file://data/processed/births2019_00030.txt [Content-Type=text/plain]... \n",
      "Copying file://data/processed/births2019_00037.txt [Content-Type=text/plain]...\n",
      "Copying file://data/processed/births2019_00026.txt [Content-Type=text/plain]... \n",
      "| [38/38 files][  1.8 GiB/  1.8 GiB] 100% Done   1.4 MiB/s ETA 00:00:00         \n",
      "Operation completed over 38 objects/1.8 GiB.                                     \n"
     ]
    }
   ],
   "source": [
    "!gsutil -m cp -r data/processed/*.txt gs://mother-goose-data/nvss/"
   ]
  },
  {
   "cell_type": "code",
   "execution_count": 7,
   "id": "2948514d-7a7c-4e56-927f-f445b575e124",
   "metadata": {},
   "outputs": [
    {
     "data": {
      "text/plain": [
       "<google.cloud.bigquery.job.load.LoadJob at 0x7efcbe2ccbe0>"
      ]
     },
     "execution_count": 7,
     "metadata": {},
     "output_type": "execute_result"
    }
   ],
   "source": [
    "from google.cloud import bigquery\n",
    "\n",
    "client = bigquery.Client()\n",
    "\n",
    "schema = [bigquery.SchemaField(c, \"INTEGER\" if c == 'DOB_YY' else \"STRING\") \\\n",
    "          for c, _ in col if not c.startswith('FILLER')]\n",
    "table = bigquery.Table('mother-goose-health.nvss.births', schema=schema)\n",
    "table.range_partitioning = bigquery.RangePartitioning(\n",
    "    field=\"DOB_YY\",\n",
    "    range_=bigquery.PartitionRange(start=1900, end=2100, interval=1),\n",
    ")\n",
    "\n",
    "client.delete_table('mother-goose-health.nvss.births', not_found_ok=True)\n",
    "table = client.create_table(table)\n",
    "\n",
    "job_config = bigquery.LoadJobConfig(\n",
    "    schema=schema,\n",
    "    skip_leading_rows=1,\n",
    "    source_format=bigquery.SourceFormat.CSV,\n",
    "    field_delimiter='|'\n",
    ")\n",
    "\n",
    "load_job = client.load_table_from_uri(\n",
    "    'gs://mother-goose-data/nvss/*.txt', \n",
    "    table, \n",
    "    job_config=job_config\n",
    ")\n",
    "load_job.result()"
   ]
  },
  {
   "cell_type": "code",
   "execution_count": null,
   "id": "3a5fd927-2126-486c-9473-93385d6a59a9",
   "metadata": {},
   "outputs": [],
   "source": []
  }
 ],
 "metadata": {
  "kernelspec": {
   "display_name": "Python 3",
   "language": "python",
   "name": "python3"
  },
  "language_info": {
   "codemirror_mode": {
    "name": "ipython",
    "version": 3
   },
   "file_extension": ".py",
   "mimetype": "text/x-python",
   "name": "python",
   "nbconvert_exporter": "python",
   "pygments_lexer": "ipython3",
   "version": "3.8.11"
  }
 },
 "nbformat": 4,
 "nbformat_minor": 5
}

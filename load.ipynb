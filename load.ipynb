{
 "cells": [
  {
   "cell_type": "code",
   "execution_count": 1,
   "id": "d13a5fb5-c19e-4381-bdc9-b1604dd135f6",
   "metadata": {},
   "outputs": [],
   "source": [
    "import yaml\n",
    "\n",
    "with open('schema.yaml', 'r') as f:\n",
    "    col = yaml.safe_load(f)"
   ]
  },
  {
   "cell_type": "code",
   "execution_count": 2,
   "id": "35f2817a-01e3-4223-a998-bfdd1ea095b0",
   "metadata": {},
   "outputs": [],
   "source": [
    "start = 1\n",
    "awk_input = []\n",
    "for c, width in col:\n",
    "    if not c.startswith('FILLER'):\n",
    "        awk_input.append(f'substr($0,{start},{width})')\n",
    "    start += width\n",
    "\n",
    "awk_input = ', '.join(awk_input)"
   ]
  },
  {
   "cell_type": "code",
   "execution_count": 3,
   "id": "551a2ce3-0e93-4232-b881-ff7a6955c638",
   "metadata": {},
   "outputs": [],
   "source": [
    "import glob, re, os\n",
    "\n",
    "inputs = glob.glob('data/raw/*.txt')\n",
    "years = [re.compile(r'Nat([0-9]{4})PublicUS').search(i).group(1) for i in inputs]\n",
    "col_final = '|'.join([c for c, _ in col if not c.startswith('FILLER')])\n",
    "\n",
    "for y, i in zip(years, inputs):\n",
    "    if os.path.exists(f'data/processed/births{y}.txt'):\n",
    "        continue\n",
    "    !awk -v OFS='|' '{{ print $awk_input }}' $i > data/processed/births{y}.txt\n",
    "    !sed -i \"1i $col_final\" data/processed/births{y}.txt"
   ]
  },
  {
   "cell_type": "code",
   "execution_count": 4,
   "id": "104aa697-c9cd-4497-ba7f-0e6d343bb69d",
   "metadata": {},
   "outputs": [
    {
     "name": "stdout",
     "output_type": "stream",
     "text": [
      "Skipping existing item: gs://mother-goose-data/nvss/births2019.txt\n",
      "Skipping existing item: gs://mother-goose-data/nvss/births2017.txt\n",
      "Skipping existing item: gs://mother-goose-data/nvss/births2018.txt\n",
      "Skipping existing item: gs://mother-goose-data/nvss/births2015.txt\n",
      "Skipping existing item: gs://mother-goose-data/nvss/births2016.txt\n",
      "Copying file://data/processed/births2014.txt [Content-Type=text/plain]...\n",
      "\\ [1/6 files][  1.9 GiB/ 11.2 GiB]  17% Done 710.5 KiB/s ETA 03:48:03           \r"
     ]
    }
   ],
   "source": [
    "!gsutil -m cp -n -r data/processed/*.txt gs://mother-goose-data/nvss/"
   ]
  },
  {
   "cell_type": "code",
   "execution_count": 5,
   "id": "2948514d-7a7c-4e56-927f-f445b575e124",
   "metadata": {},
   "outputs": [
    {
     "data": {
      "text/plain": [
       "<google.cloud.bigquery.job.load.LoadJob at 0x7efc580490d0>"
      ]
     },
     "execution_count": 5,
     "metadata": {},
     "output_type": "execute_result"
    }
   ],
   "source": [
    "from google.cloud import bigquery\n",
    "\n",
    "client = bigquery.Client()\n",
    "\n",
    "schema = [bigquery.SchemaField(c, \"INTEGER\" if c == 'DOB_YY' else \"STRING\") \\\n",
    "          for c, _ in col if not c.startswith('FILLER')]\n",
    "table = bigquery.Table('mother-goose-health.nvss.births', schema=schema)\n",
    "table.range_partitioning = bigquery.RangePartitioning(\n",
    "    field=\"DOB_YY\",\n",
    "    range_=bigquery.PartitionRange(start=1900, end=2100, interval=1),\n",
    ")\n",
    "\n",
    "client.delete_table('mother-goose-health.nvss.births', not_found_ok=True)\n",
    "table = client.create_table(table)\n",
    "\n",
    "job_config = bigquery.LoadJobConfig(\n",
    "    schema=schema,\n",
    "    skip_leading_rows=1,\n",
    "    source_format=bigquery.SourceFormat.CSV,\n",
    "    field_delimiter='|'\n",
    ")\n",
    "\n",
    "load_job = client.load_table_from_uri(\n",
    "    'gs://mother-goose-data/nvss/*.txt', \n",
    "    table, \n",
    "    job_config=job_config\n",
    ")\n",
    "load_job.result()"
   ]
  },
  {
   "cell_type": "code",
   "execution_count": 6,
   "id": "2b2a0801-9a12-4833-80e6-5f8d9cc71ab3",
   "metadata": {},
   "outputs": [],
   "source": [
    "q = \"\"\"\n",
    "SELECT DOB_YY,\n",
    "    REGEXP_REPLACE(SPLIT(pair, ':')[OFFSET(0)], r'^\"|\"$', '') metric, \n",
    "    REGEXP_REPLACE(SPLIT(pair, ':')[OFFSET(1)], r'^\"|\"$', '') value,\n",
    "    COUNT(*) AS n\n",
    "FROM nvss.births t, \n",
    "UNNEST(SPLIT(REGEXP_REPLACE(to_json_string(t), r'{|}', ''))) pair\n",
    "GROUP BY 1,2,3\n",
    "\"\"\"\n",
    "df = client.query(q).to_dataframe()"
   ]
  },
  {
   "cell_type": "code",
   "execution_count": 7,
   "id": "9de78c92-c501-47b4-96e6-7be6655010a0",
   "metadata": {},
   "outputs": [
    {
     "data": {
      "text/plain": [
       "metric\n",
       "FHISPX      8\n",
       "LMPUSED     1\n",
       "MHISPX      8\n",
       "MRACE15     1\n",
       "MRACE31     1\n",
       "MRACE6      1\n",
       "MRACEIMP    1\n",
       "dtype: int64"
      ]
     },
     "execution_count": 7,
     "metadata": {},
     "output_type": "execute_result"
    }
   ],
   "source": [
    "exclude_col = ['BMI', 'CIG_0', 'CIG_1', 'CIG_2', 'CIG_3', 'DBWT', 'DOB_YY', 'DLMP_YY', 'FAGECOMB', \n",
    "               'M_HT_IN', 'PREVIS', 'PRIORDEAD', 'PRIORLIVE', 'PRIORTERM', 'RF_CESARN']\n",
    "\n",
    "n_year = df.DOB_YY.nunique()\n",
    "\n",
    "(\n",
    "    df\n",
    "    .query('value.fillna(\"\").str.strip() != \"\"')\n",
    "    .query('~metric.isin(@exclude_col)')\n",
    "    .groupby(['metric', 'value'], as_index=False)\n",
    "    .size()\n",
    "    .query('size < @n_year')\n",
    "    .groupby(['metric']).size()\n",
    ")"
   ]
  },
  {
   "cell_type": "code",
   "execution_count": null,
   "id": "c31fb478-cc0c-4217-a866-d4b25f1046c9",
   "metadata": {},
   "outputs": [],
   "source": []
  }
 ],
 "metadata": {
  "kernelspec": {
   "display_name": "Python 3",
   "language": "python",
   "name": "python3"
  },
  "language_info": {
   "codemirror_mode": {
    "name": "ipython",
    "version": 3
   },
   "file_extension": ".py",
   "mimetype": "text/x-python",
   "name": "python",
   "nbconvert_exporter": "python",
   "pygments_lexer": "ipython3",
   "version": "3.8.11"
  }
 },
 "nbformat": 4,
 "nbformat_minor": 5
}
